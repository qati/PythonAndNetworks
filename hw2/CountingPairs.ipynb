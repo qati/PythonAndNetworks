{
 "cells": [
  {
   "cell_type": "code",
   "execution_count": 1,
   "metadata": {
    "collapsed": true
   },
   "outputs": [],
   "source": [
    "# I use gzip to open the compressed fa.gz file\n",
    "import gzip"
   ]
  },
  {
   "cell_type": "code",
   "execution_count": 2,
   "metadata": {
    "collapsed": false
   },
   "outputs": [],
   "source": [
    "# opening the file\n",
    "f = gzip.open(\"hs_alt_CHM1_1.1_chr1.fa.gz\", \"rb\")"
   ]
  },
  {
   "cell_type": "code",
   "execution_count": 3,
   "metadata": {
    "collapsed": false
   },
   "outputs": [
    {
     "data": {
      "text/plain": [
       "b'>gi|528476670|ref|NC_018912.2| Homo sapiens chromosome 1, alternate assembly CHM1_1.1, whole genome shotgun sequence\\n'"
      ]
     },
     "execution_count": 3,
     "metadata": {},
     "output_type": "execute_result"
    }
   ],
   "source": [
    "# reading the header\n",
    "f.readline()"
   ]
  },
  {
   "cell_type": "code",
   "execution_count": 4,
   "metadata": {
    "collapsed": false
   },
   "outputs": [],
   "source": [
    "# This is a generator, for iterating trough a sequence by pairs\n",
    "def doubleStepGen(seq):\n",
    "    it = iter(seq)\n",
    "    c = next(it)\n",
    "    for nx in it:\n",
    "        yield c, nx\n",
    "        c = nx"
   ]
  },
  {
   "cell_type": "code",
   "execution_count": 5,
   "metadata": {
    "collapsed": false
   },
   "outputs": [],
   "source": [
    "# this dict will contain the results\n",
    "res = {}\n",
    "#initializing res\n",
    "bases=[\"A\", \"C\", \"G\", \"T\", \"N\"]\n",
    "for i in range(len(bases)):\n",
    "    for j in range(len(bases)):\n",
    "        res[bases[i]+bases[j]] = 0"
   ]
  },
  {
   "cell_type": "code",
   "execution_count": 6,
   "metadata": {
    "collapsed": false
   },
   "outputs": [
    {
     "name": "stdout",
     "output_type": "stream",
     "text": [
      "........................................................................................................................\n",
      "........................................................................................................................\n",
      "....................................................................................................................."
     ]
    }
   ],
   "source": [
    "# helper vairables for printing dots\n",
    "n = 0\n",
    "pn = 0\n",
    "c = ()\n",
    "# iterating trough file: line by line\n",
    "for line in f:\n",
    "    # if we processed one sequence, we have to attach the last base with the first base from the new sequence\n",
    "    if len(c)>0:\n",
    "        res[str(line)[2]+c[1]] += 1\n",
    "    # converting line to str, skiping the b' and \\n' and creating a generator and iteating trough it\n",
    "    for c in doubleStepGen(str(line)[2:-3]):\n",
    "        # incrementing the pair number counter: ('T', 'A') => \"TA\", res[\"TA\"] += 1\n",
    "        res[\"\".join(c)] += 1\n",
    "    # printing dots\n",
    "    n += 1\n",
    "    if n%10000==0:\n",
    "        pn += 1\n",
    "        if pn%120==0:\n",
    "            print(\".\")\n",
    "        else:\n",
    "            print(\".\", end=\"\")"
   ]
  },
  {
   "cell_type": "code",
   "execution_count": 11,
   "metadata": {
    "collapsed": false
   },
   "outputs": [],
   "source": [
    "# pair and it's adjacent should be counted as same combination\n",
    "res2={}\n",
    "for i in range(len(bases)):\n",
    "    for j in range(i, len(bases)):\n",
    "        res2[bases[i]+bases[j]] = res[bases[i]+bases[j]]\n",
    "        if i!=j:\n",
    "            res2[bases[i]+bases[j]] +=  res[bases[j]+bases[i]]"
   ]
  },
  {
   "cell_type": "markdown",
   "metadata": {},
   "source": [
    "### Total number of base pairs"
   ]
  },
  {
   "cell_type": "code",
   "execution_count": 12,
   "metadata": {
    "collapsed": false
   },
   "outputs": [
    {
     "data": {
      "text/plain": [
       "250522663"
      ]
     },
     "execution_count": 12,
     "metadata": {},
     "output_type": "execute_result"
    }
   ],
   "source": [
    "sum(res2.values())"
   ]
  },
  {
   "cell_type": "markdown",
   "metadata": {},
   "source": [
    "### The answer for the question"
   ]
  },
  {
   "cell_type": "code",
   "execution_count": 13,
   "metadata": {
    "collapsed": false
   },
   "outputs": [
    {
     "data": {
      "text/plain": [
       "{'AA': 21583959,\n",
       " 'AC': 27947710,\n",
       " 'AG': 29791927,\n",
       " 'AN': 2140,\n",
       " 'AT': 31344667,\n",
       " 'CC': 12387013,\n",
       " 'CG': 12348719,\n",
       " 'CN': 1017,\n",
       " 'CT': 29827530,\n",
       " 'GG': 12372989,\n",
       " 'GN': 1071,\n",
       " 'GT': 27980567,\n",
       " 'NN': 23304170,\n",
       " 'TN': 2076,\n",
       " 'TT': 21627108}"
      ]
     },
     "execution_count": 13,
     "metadata": {},
     "output_type": "execute_result"
    }
   ],
   "source": [
    "res2"
   ]
  },
  {
   "cell_type": "code",
   "execution_count": null,
   "metadata": {
    "collapsed": true
   },
   "outputs": [],
   "source": []
  }
 ],
 "metadata": {
  "anaconda-cloud": {},
  "kernelspec": {
   "display_name": "Python [default]",
   "language": "python",
   "name": "python3"
  },
  "language_info": {
   "codemirror_mode": {
    "name": "ipython",
    "version": 3
   },
   "file_extension": ".py",
   "mimetype": "text/x-python",
   "name": "python",
   "nbconvert_exporter": "python",
   "pygments_lexer": "ipython3",
   "version": "3.5.2"
  }
 },
 "nbformat": 4,
 "nbformat_minor": 1
}

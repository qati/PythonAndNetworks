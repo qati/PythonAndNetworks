{
 "cells": [
  {
   "cell_type": "code",
   "execution_count": 1,
   "metadata": {
    "collapsed": true
   },
   "outputs": [],
   "source": [
    "# I use gzip to open the compressed fa.gz file\n",
    "import gzip"
   ]
  },
  {
   "cell_type": "code",
   "execution_count": 2,
   "metadata": {
    "collapsed": false
   },
   "outputs": [],
   "source": [
    "# opening the file\n",
    "f = gzip.open(\"hs_alt_CHM1_1.1_chr1.fa.gz\", \"rb\")"
   ]
  },
  {
   "cell_type": "code",
   "execution_count": 3,
   "metadata": {
    "collapsed": false
   },
   "outputs": [
    {
     "data": {
      "text/plain": [
       "b'>gi|528476670|ref|NC_018912.2| Homo sapiens chromosome 1, alternate assembly CHM1_1.1, whole genome shotgun sequence\\n'"
      ]
     },
     "execution_count": 3,
     "metadata": {},
     "output_type": "execute_result"
    }
   ],
   "source": [
    "# reading the header\n",
    "f.readline()"
   ]
  },
  {
   "cell_type": "code",
   "execution_count": 4,
   "metadata": {
    "collapsed": false
   },
   "outputs": [],
   "source": [
    "# This is a generator, for iterating trough a sequence by pairs\n",
    "def doubleStepGen(seq):\n",
    "    it = iter(seq)\n",
    "    for c in it:\n",
    "        yield c, next(it)"
   ]
  },
  {
   "cell_type": "code",
   "execution_count": 5,
   "metadata": {
    "collapsed": false
   },
   "outputs": [
    {
     "name": "stdout",
     "output_type": "stream",
     "text": [
      "........................................................................................................................\n",
      "........................................................................................................................\n",
      "....................................................................................................................."
     ]
    }
   ],
   "source": [
    "# this dict will contain the results\n",
    "res = {}\n",
    "# helper vairables for printing dots\n",
    "n = 0\n",
    "pn = 0\n",
    "# iterating trough file: line by line\n",
    "for line in f:\n",
    "    # converting line to str, skiping the b' and \\n' and creating a generator and iteating trough it\n",
    "    for c in doubleStepGen(str(line)[2:-3]):\n",
    "        # creating string from pairs: ('T', 'A') => \"TA\"\n",
    "        l1 = \"\".join(c)\n",
    "        #if this is in the res dict, just incrementing with one\n",
    "        if l1 in res:\n",
    "            res[l1] += 1\n",
    "        else:\n",
    "            # if the first combination not in res, then flipping the pair and checking if the adjacent is in the res\n",
    "            l2 = \"\".join(c[::-1])\n",
    "            if l2 in res:\n",
    "                res[l2] += 1\n",
    "            else:\n",
    "                # if the adjecent not in the list creating a new entry\n",
    "                res[l1] = 1\n",
    "    # printing dots\n",
    "    n += 1\n",
    "    if n%10000==0:\n",
    "        pn += 1\n",
    "        if pn%120==0:\n",
    "            print(\".\")\n",
    "        else:\n",
    "            print(\".\", end=\"\")"
   ]
  },
  {
   "cell_type": "code",
   "execution_count": 6,
   "metadata": {
    "collapsed": false
   },
   "outputs": [
    {
     "data": {
      "text/plain": [
       "{'AA': 10792486,\n",
       " 'AC': 13972372,\n",
       " 'AG': 14894290,\n",
       " 'AN': 1058,\n",
       " 'CC': 6192699,\n",
       " 'CG': 6177001,\n",
       " 'CT': 14914245,\n",
       " 'GG': 6184992,\n",
       " 'GN': 536,\n",
       " 'GT': 13992320,\n",
       " 'NC': 485,\n",
       " 'NN': 11652102,\n",
       " 'TA': 15674489,\n",
       " 'TN': 1040,\n",
       " 'TT': 10811217}"
      ]
     },
     "execution_count": 6,
     "metadata": {},
     "output_type": "execute_result"
    }
   ],
   "source": [
    "# the result\n",
    "res"
   ]
  },
  {
   "cell_type": "code",
   "execution_count": null,
   "metadata": {
    "collapsed": true
   },
   "outputs": [],
   "source": []
  }
 ],
 "metadata": {
  "anaconda-cloud": {},
  "kernelspec": {
   "display_name": "Python [default]",
   "language": "python",
   "name": "python3"
  },
  "language_info": {
   "codemirror_mode": {
    "name": "ipython",
    "version": 3
   },
   "file_extension": ".py",
   "mimetype": "text/x-python",
   "name": "python",
   "nbconvert_exporter": "python",
   "pygments_lexer": "ipython3",
   "version": "3.5.2"
  }
 },
 "nbformat": 4,
 "nbformat_minor": 1
}
